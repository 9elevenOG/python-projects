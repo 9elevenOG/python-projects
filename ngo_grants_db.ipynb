{
 "cells": [
  {
   "cell_type": "code",
   "execution_count": 3,
   "id": "5ccfdb3e-e475-486b-9359-8289abed0f45",
   "metadata": {},
   "outputs": [
    {
     "name": "stdout",
     "output_type": "stream",
     "text": [
      "Requirement already satisfied: psycopg2-binary in c:\\users\\pc\\anaconda3\\lib\\site-packages (2.9.10)\n",
      "Requirement already satisfied: pandas in c:\\users\\pc\\anaconda3\\lib\\site-packages (2.1.4)\n",
      "Requirement already satisfied: numpy<2,>=1.26.0 in c:\\users\\pc\\anaconda3\\lib\\site-packages (from pandas) (1.26.4)\n",
      "Requirement already satisfied: python-dateutil>=2.8.2 in c:\\users\\pc\\appdata\\roaming\\python\\python312\\site-packages (from pandas) (2.9.0.post0)\n",
      "Requirement already satisfied: pytz>=2020.1 in c:\\users\\pc\\appdata\\roaming\\python\\python312\\site-packages (from pandas) (2024.2)\n",
      "Requirement already satisfied: tzdata>=2022.1 in c:\\users\\pc\\appdata\\roaming\\python\\python312\\site-packages (from pandas) (2024.2)\n",
      "Requirement already satisfied: six>=1.5 in c:\\users\\pc\\appdata\\roaming\\python\\python312\\site-packages (from python-dateutil>=2.8.2->pandas) (1.17.0)\n"
     ]
    },
    {
     "name": "stderr",
     "output_type": "stream",
     "text": [
      "WARNING: Ignoring invalid distribution ~ertifi (C:\\Users\\pc\\AppData\\Roaming\\Python\\Python312\\site-packages)\n",
      "WARNING: Ignoring invalid distribution ~ertifi (C:\\Users\\pc\\AppData\\Roaming\\Python\\Python312\\site-packages)\n"
     ]
    }
   ],
   "source": [
    "!pip install psycopg2-binary pandas"
   ]
  },
  {
   "cell_type": "code",
   "execution_count": 5,
   "id": "73951b74-54ad-493d-800d-5519039b7413",
   "metadata": {},
   "outputs": [
    {
     "name": "stdout",
     "output_type": "stream",
     "text": [
      "3.12.7 | packaged by Anaconda, Inc. | (main, Oct  4 2024, 13:17:27) [MSC v.1929 64 bit (AMD64)]\n"
     ]
    }
   ],
   "source": [
    "import sys\n",
    "print(sys.version)"
   ]
  },
  {
   "cell_type": "code",
   "execution_count": 7,
   "id": "42a701a8-f51f-4d61-b948-88b75a04528a",
   "metadata": {},
   "outputs": [
    {
     "name": "stdout",
     "output_type": "stream",
     "text": [
      "Connected to PostgreSQL!\n"
     ]
    }
   ],
   "source": [
    "# Test PostgreSQL connection\n",
    "import psycopg2\n",
    "\n",
    "try:\n",
    "    conn = psycopg2.connect(\n",
    "        dbname=\"ngo_grants\",\n",
    "        user=\"postgres\",\n",
    "        password=\"shockwave16\",  # Replace with your PostgreSQL password\n",
    "        host=\"localhost\",\n",
    "        port=\"5432\"  # Change to your confirmed port if not 5432\n",
    "    )\n",
    "    print(\"Connected to PostgreSQL!\")\n",
    "    conn.close()\n",
    "except Exception as e:\n",
    "    print(f\"Error: {e}\")"
   ]
  },
  {
   "cell_type": "code",
   "execution_count": 9,
   "id": "4e5fc65c-28d7-419d-908f-6191e333db66",
   "metadata": {},
   "outputs": [
    {
     "name": "stdout",
     "output_type": "stream",
     "text": [
      "Table and indexes created!\n"
     ]
    }
   ],
   "source": [
    "# Create table\n",
    "conn = psycopg2.connect(\n",
    "    dbname=\"ngo_grants\",\n",
    "    user=\"postgres\",\n",
    "    password=\"shockwave16\",\n",
    "    host=\"localhost\",\n",
    "    port=\"5432\"  # Change if your port differs\n",
    ")\n",
    "cursor = conn.cursor()\n",
    "\n",
    "cursor.execute(\"\"\"\n",
    "    CREATE TABLE IF NOT EXISTS grants (\n",
    "        id SERIAL PRIMARY KEY,\n",
    "        funder_name TEXT NOT NULL,\n",
    "        website TEXT NOT NULL,\n",
    "        description TEXT NOT NULL,\n",
    "        support_type VARCHAR(50) NOT NULL CHECK (support_type IN ('Grant', 'Donation', 'Contest')),\n",
    "        support_amount TEXT,\n",
    "        application_link TEXT NOT NULL,\n",
    "        open_date DATE,\n",
    "        close_date DATE,\n",
    "        typical_grant_size TEXT,\n",
    "        geographic_focus VARCHAR(100),\n",
    "        target_demographic VARCHAR(100),\n",
    "        project_category VARCHAR(100),\n",
    "        ranking_score REAL CHECK (ranking_score >= 1 AND ranking_score <= 5),\n",
    "        created_at TIMESTAMP DEFAULT CURRENT_TIMESTAMP\n",
    "    );\n",
    "    CREATE INDEX IF NOT EXISTS idx_ranking_score ON grants (ranking_score);\n",
    "    CREATE INDEX IF NOT EXISTS idx_close_date ON grants (close_date);\n",
    "    CREATE INDEX IF NOT EXISTS idx_geographic_focus ON grants (geographic_focus);\n",
    "\"\"\")\n",
    "conn.commit()\n",
    "print(\"Table and indexes created!\")\n",
    "cursor.close()\n",
    "conn.close()"
   ]
  },
  {
   "cell_type": "code",
   "execution_count": 11,
   "id": "fb27bb2f-07cd-4429-892f-a4822f9beefc",
   "metadata": {},
   "outputs": [
    {
     "name": "stdout",
     "output_type": "stream",
     "text": [
      "('id', 'integer')\n",
      "('funder_name', 'text')\n",
      "('website', 'text')\n",
      "('description', 'text')\n",
      "('support_type', 'character varying')\n",
      "('support_amount', 'text')\n",
      "('application_link', 'text')\n",
      "('open_date', 'date')\n",
      "('close_date', 'date')\n",
      "('typical_grant_size', 'text')\n",
      "('geographic_focus', 'character varying')\n",
      "('target_demographic', 'character varying')\n",
      "('project_category', 'character varying')\n",
      "('ranking_score', 'real')\n",
      "('created_at', 'timestamp without time zone')\n"
     ]
    }
   ],
   "source": [
    "conn = psycopg2.connect(\n",
    "    dbname=\"ngo_grants\",\n",
    "    user=\"postgres\",\n",
    "    password=\"shockwave\",\n",
    "    host=\"localhost\",\n",
    "    port=\"5432\"\n",
    ")\n",
    "cursor = conn.cursor()\n",
    "cursor.execute(\"SELECT column_name, data_type FROM information_schema.columns WHERE table_name = 'grants';\")\n",
    "columns = cursor.fetchall()\n",
    "for col in columns:\n",
    "    print(col)\n",
    "cursor.close()\n",
    "conn.close()"
   ]
  },
  {
   "cell_type": "code",
   "execution_count": 29,
   "id": "ba93462c-ed1e-48fa-9265-7ad944ec40db",
   "metadata": {},
   "outputs": [
    {
     "name": "stdout",
     "output_type": "stream",
     "text": [
      "Mission Score: 5.0, Funding Score: 4.6, Complexity Score: 4.0, Likelihood Score: 4.0\n",
      "Sample grant inserted!\n",
      "('Oak Foundation', 4.6, 'Africa')\n"
     ]
    }
   ],
   "source": [
    "import psycopg2\n",
    "import re\n",
    "\n",
    "def calculate_ranking_score(description, support_amount, geographic_focus, project_category):\n",
    "    # Mission Alignment (40%)\n",
    "    mission_keywords = ['education', 'youth', 'africa', 'asia', 'schooling', 'training']\n",
    "    mission_score = 3.0\n",
    "    for keyword in mission_keywords:\n",
    "        if keyword.lower() in description.lower() or keyword.lower() in project_category.lower():\n",
    "            mission_score += 0.5\n",
    "    if geographic_focus and geographic_focus.lower() in ['africa', 'asia']:\n",
    "        mission_score += 0.5\n",
    "    mission_score = min(mission_score, 5.0)\n",
    "\n",
    "    # Funding Size (30%) - Updated logic\n",
    "    funding_score = 3.0\n",
    "    if support_amount:\n",
    "        numbers = re.findall(r'\\$?(\\d+,\\d+)', support_amount)\n",
    "        if numbers:\n",
    "            min_amount = int(numbers[0].replace(',', ''))\n",
    "            max_amount = int(numbers[-1].replace(',', '')) if len(numbers) > 1 else min_amount\n",
    "            if 10000 <= min_amount <= 100000 and max_amount <= 100000:\n",
    "                funding_score = 5.0\n",
    "            elif 10000 <= min_amount <= 100000 and max_amount <= 250000:\n",
    "                funding_score = 4.6 \n",
    "            elif (5000 <= min_amount < 10000) or (250000 < max_amount <= 500000):\n",
    "                funding_score = 3.0\n",
    "            else:\n",
    "                funding_score = 1.0\n",
    "\n",
    "    # Application Complexity (20%) - Heuristic\n",
    "    complexity_score = 4.0\n",
    "\n",
    "    # Success Likelihood (10%) - Heuristic\n",
    "    likelihood_score = 4.0 if geographic_focus and geographic_focus.lower() in ['africa', 'asia'] else 3.0\n",
    "\n",
    "    # Debug: Print individual scores\n",
    "    print(f\"Mission Score: {mission_score}, Funding Score: {funding_score}, \"\n",
    "          f\"Complexity Score: {complexity_score}, Likelihood Score: {likelihood_score}\")\n",
    "\n",
    "    return round((0.4 * mission_score) + (0.3 * funding_score) + (0.2 * complexity_score) + (0.1 * likelihood_score), 1)\n",
    "\n",
    "def insert_sample_grant():\n",
    "    conn = psycopg2.connect(\n",
    "        dbname=\"ngo_grants\",\n",
    "        user=\"postgres\",\n",
    "        password=\"shockwave16\",\n",
    "        host=\"localhost\",\n",
    "        port=\"5432\"\n",
    "    )\n",
    "    cursor = conn.cursor()\n",
    "    sample_grant = {\n",
    "        'funder_name': 'Oak Foundation',\n",
    "        'website': 'https://www.oakfnd.org',\n",
    "        'description': 'Funds education projects for marginalized youth in East Africa, emphasizing access to quality schooling and teacher training.',\n",
    "        'support_type': 'Grant',\n",
    "        'support_amount': '$50,000-$200,000',\n",
    "        'application_link': 'https://www.oakfnd.org/apply',\n",
    "        'open_date': '2025-06-01',\n",
    "        'close_date': '2025-07-31',\n",
    "        'typical_grant_size': '$75,000-$150,000',\n",
    "        'geographic_focus': 'Africa',\n",
    "        'target_demographic': 'Youth',\n",
    "        'project_category': 'Education',\n",
    "        'ranking_score': calculate_ranking_score(\n",
    "            description='Funds education projects for marginalized youth in East Africa, emphasizing access to quality schooling and teacher training.',\n",
    "            support_amount='$50,000-$200,000',\n",
    "            geographic_focus='Africa',\n",
    "            project_category='Education'\n",
    "        )\n",
    "    }\n",
    "    cursor.execute(\"\"\"\n",
    "        INSERT INTO grants (\n",
    "            funder_name, website, description, support_type, support_amount, \n",
    "            application_link, open_date, close_date, typical_grant_size, \n",
    "            geographic_focus, target_demographic, project_category, ranking_score\n",
    "        ) VALUES (%s, %s, %s, %s, %s, %s, %s, %s, %s, %s, %s, %s, %s)\n",
    "    \"\"\", (\n",
    "        sample_grant['funder_name'], sample_grant['website'], sample_grant['description'],\n",
    "        sample_grant['support_type'], sample_grant['support_amount'], sample_grant['application_link'],\n",
    "        sample_grant['open_date'], sample_grant['close_date'], sample_grant['typical_grant_size'],\n",
    "        sample_grant['geographic_focus'], sample_grant['target_demographic'], sample_grant['project_category'],\n",
    "        sample_grant['ranking_score']\n",
    "    ))\n",
    "    conn.commit()\n",
    "    cursor.close()\n",
    "    conn.close()\n",
    "    print(\"Sample grant inserted!\")\n",
    "\n",
    "# Clear previous entries to avoid duplicates\n",
    "conn = psycopg2.connect(\n",
    "    dbname=\"ngo_grants\",\n",
    "    user=\"postgres\",\n",
    "    password=\"shockwave16\",\n",
    "    host=\"localhost\",\n",
    "    port=\"5432\"\n",
    ")\n",
    "cursor = conn.cursor()\n",
    "cursor.execute(\"DELETE FROM grants;\")\n",
    "conn.commit()\n",
    "cursor.close()\n",
    "conn.close()\n",
    "\n",
    "# Run insertion\n",
    "insert_sample_grant()\n",
    "\n",
    "# Verify\n",
    "conn = psycopg2.connect(\n",
    "    dbname=\"ngo_grants\",\n",
    "    user=\"postgres\",\n",
    "    password=\"shockwave16\",\n",
    "    host=\"localhost\",\n",
    "    port=\"5432\"\n",
    ")\n",
    "cursor = conn.cursor()\n",
    "cursor.execute(\"SELECT funder_name, ranking_score, geographic_focus FROM grants ORDER BY ranking_score DESC;\")\n",
    "results = cursor.fetchall()\n",
    "for row in results:\n",
    "    print(row)\n",
    "cursor.close()\n",
    "conn.close()"
   ]
  },
  {
   "cell_type": "markdown",
   "id": "ceb10ee9-560b-48e5-97a9-cdb4dc3c5bb4",
   "metadata": {},
   "source": [
    "# Grant Opportunity Database Documentation\n",
    "\n",
    "## Database Schema\n",
    "- **Table**: `grants`\n",
    "- **Fields**:\n",
    "  - `id`: SERIAL PRIMARY KEY\n",
    "  - `funder_name`: TEXT NOT NULL\n",
    "  - `website`: TEXT NOT NULL\n",
    "  - `description`: TEXT NOT NULL\n",
    "  - `support_type`: VARCHAR(50) NOT NULL (Grant, Donation, Contest)\n",
    "  - `support_amount`: TEXT\n",
    "  - `application_link`: TEXT NOT NULL\n",
    "  - `open_date`: DATE\n",
    "  - `close_date`: DATE\n",
    "  - `typical_grant_size`: TEXT\n",
    "  - `geographic_focus`: VARCHAR(100)\n",
    "  - `target_demographic`: VARCHAR(100)\n",
    "  - `project_category`: VARCHAR(100)\n",
    "  - `ranking_score`: REAL (1–5)\n",
    "  - `created_at`: TIMESTAMP\n",
    "- **Indexes**: `ranking_score`, `close_date`, `geographic_focus`\n",
    "- **Scalability**: PostgreSQL supports large datasets; indexes optimize queries.\n",
    "\n",
    "## Ranking System\n",
    "- **Criteria**:\n",
    "  - Mission Alignment (40%): Matches education/youth in Africa/Asia.\n",
    "  - Funding Size (30%): Prefers $10,000–$100,000; close matches ($10,000–$250,000) score 4.6.\n",
    "  - Application Complexity (20%): Ease of applying.\n",
    "  - Success Likelihood (10%): Chance of securing.\n",
    "- **Formula**: `Ranking Score = (0.4 * Mission_Score) + (0.3 * Funding_Score) + (0.2 * Complexity_Score) + (0.1 * Likelihood_Score)`\n",
    "- **Automation**: Keyword matching and regex for scoring.\n",
    "\n",
    "## Sample Entry\n",
    "- **Funder**: Oak Foundation\n",
    "- **Score**: 4.6 (Mission: 5.0, Funding: 4.6, Complexity: 4.0, Likelihood: 4.0)\n",
    "- **Details**: Education projects in East Africa, $50,000–$200,000.\n",
    "\n",
    "## Next Steps\n",
    "- Share with client for approval.\n",
    "- Adjust based on feedback.\n",
    "- Proceed to Step 3 (automation)."
   ]
  },
  {
   "cell_type": "code",
   "execution_count": null,
   "id": "cd8935ff-f769-405b-98a2-cb3087ef6346",
   "metadata": {},
   "outputs": [],
   "source": []
  }
 ],
 "metadata": {
  "kernelspec": {
   "display_name": "Python 3 (ipykernel)",
   "language": "python",
   "name": "python3"
  },
  "language_info": {
   "codemirror_mode": {
    "name": "ipython",
    "version": 3
   },
   "file_extension": ".py",
   "mimetype": "text/x-python",
   "name": "python",
   "nbconvert_exporter": "python",
   "pygments_lexer": "ipython3",
   "version": "3.12.7"
  }
 },
 "nbformat": 4,
 "nbformat_minor": 5
}
